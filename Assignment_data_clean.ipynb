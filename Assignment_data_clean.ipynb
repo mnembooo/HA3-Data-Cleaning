{
 "cells": [
  {
   "cell_type": "markdown",
   "id": "a47439c7-ef37-4357-9d69-1409aaea100d",
   "metadata": {},
   "source": [
    "<font size = '5'><b>HA3 Programming Languages 2</b></font>"
   ]
  },
  {
   "cell_type": "markdown",
   "id": "6b4015dc-a52d-49f8-ae9f-d85bed103e77",
   "metadata": {},
   "source": [
    "<font size = '3.5'><b>Masirdinov Nurmukhamed</b></font>"
   ]
  },
  {
   "cell_type": "markdown",
   "id": "a0c93c3e-5849-48d6-8460-d9a85ebe3b7e",
   "metadata": {},
   "source": [
    "<b> Handling Missing Data Questions: </b>\n",
    "- How do you identify and handle missing values in a Pandas DataFrame?\n",
    "-  What is imputation, and why might it be useful in dealing with missing data?\n"
   ]
  },
  {
   "cell_type": "markdown",
   "id": "b000457a-3737-43b3-99a8-7991f6bcaaee",
   "metadata": {},
   "source": [
    "For the first question, we have some functions in pandas module, such as\r\n",
    "<code>\r\n",
    ".isna<code>(<code>)\r\n",
    ".dropn<code>a()\r\n",
    ".fillna()"
   ]
  },
  {
   "cell_type": "markdown",
   "id": "5771978e-1990-4b90-9c10-361a9e804f84",
   "metadata": {},
   "source": [
    "Let's take a look for DataFrame included with some NaN values and how the operation go through it."
   ]
  },
  {
   "cell_type": "code",
   "execution_count": 22,
   "id": "69971679-22f6-40ac-abd8-ce8eba794019",
   "metadata": {},
   "outputs": [
    {
     "name": "stdout",
     "output_type": "stream",
     "text": [
      "     A    B     C\n",
      "0  1.0  NaN   8.0\n",
      "1  2.0  5.0   9.0\n",
      "2  NaN  6.0  10.0\n",
      "3  4.0  7.0   NaN\n",
      "       A      B      C\n",
      "0  False   True  False\n",
      "1  False  False  False\n",
      "2   True  False  False\n",
      "3  False  False   True\n",
      "     A    B    C\n",
      "1  2.0  5.0  9.0\n",
      "     A    B     C\n",
      "0  1.0  0.0   8.0\n",
      "1  2.0  5.0   9.0\n",
      "2  0.0  6.0  10.0\n",
      "3  4.0  7.0   0.0\n"
     ]
    }
   ],
   "source": [
    "import pandas as pd\n",
    "import matplotlib.pyplot as plt\n",
    "\n",
    "data = {'A': [1, 2, None, 4],\n",
    "        'B': [None, 5, 6, 7],\n",
    "        'C': [8, 9, 10, None]}\n",
    "some_data = pd.DataFrame(data)\n",
    "print(some_data)\n",
    "\n",
    "print(some_data.isna())\n",
    "\n",
    "\n",
    "some_data_dropped = some_data.dropna()\n",
    "print(some_data_dropped)\n",
    "\n",
    "data_filled = some_data.fillna(0)\n",
    "print(data_filled)\n",
    "\n",
    "\n"
   ]
  },
  {
   "cell_type": "markdown",
   "id": "39b77a95-0f81-466c-b644-903c08031922",
   "metadata": {},
   "source": [
    "<b> Imputation </b>\n",
    "\n",
    "Imputation is the process of replacing missing data with substituted values. It can be useful because:\n",
    "  - Many machine learning algorithms cannot handle missing data, so imputation allows you to use these algorithms.\n",
    "  - Imputing missing data can help maintain the size and integrity of the dataset.\n",
    "  - It helps in preserving patterns and relationships present in the data.\n",
    "  - It can reduce bias that may result from complete case analysis (i.e., excluding cases with missing values)."
   ]
  },
  {
   "cell_type": "markdown",
   "id": "e8196ead-20d0-4127-b4b5-72723c30a0a6",
   "metadata": {},
   "source": [
    "<b>Data Transformation Questions</b>"
   ]
  },
  {
   "cell_type": "markdown",
   "id": "1eefccc0-a4f8-4f35-a0e5-e13510135e23",
   "metadata": {},
   "source": [
    "<font size='3.5'>How can you encode categorical variables in a Pandas DataFrame?</font>"
   ]
  },
  {
   "cell_type": "markdown",
   "id": "47d6a7e4-f700-4962-b675-c5a5d2476a45",
   "metadata": {},
   "source": [
    "Encoding categorical variables involves converting categorical data (i.e., data that represents categories or labels) into a numerical format that machine learning algorithms can understand. Categorical variables can take on a limited, fixed number of possible values, such as colors, types of fruit, or levels of education. There are methods of encoding:"
   ]
  },
  {
   "cell_type": "markdown",
   "id": "3fd94643-cc8d-4862-b7d3-ec165d63d4d7",
   "metadata": {},
   "source": [
    "<font size='3'>1.Ordinal encoding:</font>\n",
    "-  Ordinal encoding is similar to label encoding but allows for custom mapping of categories to specific integers based on a predefined order.\n",
    "-  Unlike label encoding, where the mapping is based on the order of appearance, ordinal encoding allows for explicit control over the mapping.\n",
    "-  Ordinal encoding is suitable for categorical variables with a natural order or hierarchy, where the numerical labels reflect the inherent order of the categories.\n",
    "-  Example: If the original categorical column represents levels of education ('low', 'medium', 'high'), ordinal encoding can map them to integers 1, 2, and 3, respectively, based on their order of importance or level."
   ]
  },
  {
   "cell_type": "code",
   "execution_count": 23,
   "id": "82db318e-8c90-4fde-b77c-5e59fc460f70",
   "metadata": {},
   "outputs": [
    {
     "name": "stdout",
     "output_type": "stream",
     "text": [
      "Original DataFrame:\n",
      "  category  encoded_category\n",
      "0      low                 1\n",
      "1     high                 3\n",
      "2     high                 3\n",
      "3   medium                 2\n",
      "4      low                 1\n",
      "5   medium                 2\n",
      "6      low                 1\n"
     ]
    }
   ],
   "source": [
    "data_set = {'category': ['low', 'high', 'high', 'medium', 'low','medium','low']}\n",
    "df_od = pd.DataFrame(data_set)\n",
    "mapping = {'low': 1, 'medium': 2, 'high': 3}\n",
    "df_od['encoded_category'] = df_od['category'].map(mapping)\n",
    "print(\"Original DataFrame:\")\n",
    "print(df_od)"
   ]
  },
  {
   "cell_type": "markdown",
   "id": "820128b7-5acc-4de6-8e0b-2879852e423c",
   "metadata": {},
   "source": [
    "<font size='3'>2.Pandas <code>factorize()</code> The pandas <code>factorize()</code> function is used to encode categorical data. It returns a tuple containing two elements:</font>\n",
    "-  An array of integers representing the numerical labels of the categorical data.\n",
    "-  An Index object that contains the unique categories in the data, along with their corresponding integer codes. Example: the original categorical column 'category' with values ['A', 'B', 'C', 'A', 'C'] is encoded using the <code>factorize()</code> function. The encoded labels are assigned to the labels array, while the unique categories are stored in the <code>unique_categories</code> Index array. The encoded labels are then added as a new column 'encoded_category' to the DataFrame <code>df_fact</code>. Finally, both the original DataFrame and the encoded labels along with their corresponding unique categories are printing for reference."
   ]
  },
  {
   "cell_type": "code",
   "execution_count": 24,
   "id": "40304234-41a6-4024-a43d-9030e373bb8d",
   "metadata": {},
   "outputs": [
    {
     "name": "stdout",
     "output_type": "stream",
     "text": [
      "Original DataFrame:\n",
      "  category  encoded_category\n",
      "0        A                 0\n",
      "1        B                 1\n",
      "2        C                 2\n",
      "3        A                 0\n",
      "4        C                 2\n",
      "\n",
      "Encoded labels:\n",
      "[0 1 2 0 2]\n",
      "\n",
      "Unique categories:\n",
      "Index(['A', 'B', 'C'], dtype='object')\n"
     ]
    }
   ],
   "source": [
    "data_fact = {'category': ['A', 'B', 'C', 'A', 'C']}\n",
    "df_fact = pd.DataFrame(data_fact)\n",
    "labels, unique_categories = pd.factorize(df_fact['category'])\n",
    "df_fact['encoded_category'] = labels\n",
    "print(\"Original DataFrame:\")\n",
    "print(df_fact)\n",
    "print(\"\\nEncoded labels:\")\n",
    "print(labels)\n",
    "print(\"\\nUnique categories:\")\n",
    "print(unique_categories)"
   ]
  },
  {
   "cell_type": "markdown",
   "id": "2173c43a-cb3c-4ac0-a69f-7b682ec8118f",
   "metadata": {},
   "source": [
    "<font size='3'>What is one-hot encoding, and when would you use it in data preprocessing?</font>"
   ]
  },
  {
   "cell_type": "markdown",
   "id": "2d92c353-21a8-41c9-89f9-88ccc71a2245",
   "metadata": {},
   "source": [
    "In Python, you can perform one-hot encoding using the <code>get_dummies()</code> function from the pandas library. After identifying categorical variables in your dataset, you can use this function to automatically convert them into one-hot encoded format. Each category becomes a new binary column in the DataFrame, with 1s indicating the presence of that category and 0s indicating absence."
   ]
  },
  {
   "cell_type": "code",
   "execution_count": 25,
   "id": "f86e92a7-c8e1-4939-b355-2fc254362817",
   "metadata": {},
   "outputs": [
    {
     "name": "stdout",
     "output_type": "stream",
     "text": [
      "    blue  green  purple    red\n",
      "0  False  False   False   True\n",
      "1  False   True   False  False\n",
      "2   True  False   False  False\n",
      "3  False   True   False  False\n",
      "4  False  False   False   True\n",
      "5   True  False   False  False\n",
      "6  False  False    True  False\n"
     ]
    }
   ],
   "source": [
    "\n",
    "data = pd.DataFrame({'color': ['red', 'green', 'blue', 'green', 'red', 'blue','purple']})\n",
    "one_hot_encoded = pd.get_dummies(data['color'])\n",
    "print(one_hot_encoded)\n",
    "\n",
    "\n"
   ]
  },
  {
   "cell_type": "markdown",
   "id": "deab2c11-fff9-463e-9e1f-39beb847409a",
   "metadata": {},
   "source": [
    "<b>Removing Duplicates questions </b>"
   ]
  },
  {
   "cell_type": "markdown",
   "id": "25afa755-224a-4496-8ecc-5860f385d12b",
   "metadata": {},
   "source": [
    "<font size='3'>How do you identify and remove duplicate rows from a DataFrame?<font>"
   ]
  },
  {
   "cell_type": "markdown",
   "id": "4e12292d-9d0c-4b3c-871c-c5125dc34236",
   "metadata": {},
   "source": [
    "Duplicate rows in a DataFrame are rows that have identical values across all columns.\n",
    "\n",
    "To identify duplicate rows in a DataFrame in Pandas, we can use the <code>duplicated()</code> method. \n",
    "This method returns a boolean Series indicating whether each row is a duplicate of a previous row. \n",
    "For example:"
   ]
  },
  {
   "cell_type": "code",
   "execution_count": 26,
   "id": "c23052c6-6ccd-47ce-8cc0-5327ba33ce4f",
   "metadata": {},
   "outputs": [
    {
     "name": "stdout",
     "output_type": "stream",
     "text": [
      "Original DataFrame:\n",
      "\n",
      "   A  B\n",
      "0  1  a\n",
      "1  2  b\n",
      "2  3  c\n",
      "3  4  d\n",
      "4  2  b\n",
      "Duplicated Mask:\n",
      "0    False\n",
      "1    False\n",
      "2    False\n",
      "3    False\n",
      "4     True\n",
      "dtype: bool\n"
     ]
    }
   ],
   "source": [
    "some_data_dpl = {'A': [1, 2, 3, 4, 2],\n",
    "        'B': ['a', 'b', 'c', 'd', 'b']}\n",
    "df_dpl = pd.DataFrame(some_data_dpl)\n",
    "\n",
    "duplicate_mask = df_dpl.duplicated()\n",
    "\n",
    "print(\"Original DataFrame:\\n\")\n",
    "print(df_dpl)\n",
    "print(\"Duplicated Mask:\")\n",
    "print(duplicate_mask)"
   ]
  },
  {
   "cell_type": "markdown",
   "id": "2fa3dbc3-03f0-4527-a16c-f97704c4163f",
   "metadata": {},
   "source": [
    "To remove duplicate rows from a DataFrame in Pandas, we can use the <code>drop_duplicates()</code> method.\n",
    "This method removes rows that are duplicates of other rows, keeping only the first occurrence of each unique row by default. Here's how we can do it:"
   ]
  },
  {
   "cell_type": "code",
   "execution_count": 27,
   "id": "a144e075-8871-45d7-b9c2-cebe275911e9",
   "metadata": {
    "scrolled": true
   },
   "outputs": [
    {
     "name": "stdout",
     "output_type": "stream",
     "text": [
      "Original DataFrame:\n",
      "\n",
      "   A  B\n",
      "0  1  a\n",
      "1  2  b\n",
      "2  3  c\n",
      "3  4  d\n",
      "4  2  b\n",
      "DataFrame after removing duplicates:\n",
      "   A  B\n",
      "0  1  a\n",
      "1  2  b\n",
      "2  3  c\n",
      "3  4  d\n"
     ]
    }
   ],
   "source": [
    "data_remove_dpl = {'A': [1, 2, 3, 4, 2],\n",
    "'B': ['a', 'b', 'c', 'd', 'b']\n",
    "}\n",
    "df_remove_dpl = pd.DataFrame(data_remove_dpl)\n",
    "cleaned_df = df_remove_dpl.drop_duplicates()\n",
    "print(\"Original DataFrame:\\n\")\n",
    "print(df_remove_dpl)\n",
    "print(\"DataFrame after removing duplicates:\") \n",
    "print(cleaned_df)"
   ]
  },
  {
   "cell_type": "markdown",
   "id": "e4e76c2d-544d-40eb-8661-2aad7b74db76",
   "metadata": {},
   "source": [
    "<font size='3'>Can you explain the difference between the <code>duplicated()</code> and <code>drop_duplicates()</code> methods in Pandas?</font>"
   ]
  },
  {
   "cell_type": "markdown",
   "id": "5ce54290-01ba-4622-b10f-d1bb0df52582",
   "metadata": {},
   "source": [
    "<font size = '2.8'><b><code>duplicated()</code></b></font>\n",
    "\n",
    "Purpose: The <code>duplicated()</code> method is used to return a boolean Series indicating whether each row is a duplicate (True) or not (False).\n",
    "Usage: It's typically used when you want to identify or mark duplicates in your dataset, without actually removing them. This can be useful for data analysis, where you might want to examine the duplicates before deciding on further action.\n",
    "Parameters: It allows you to specify which columns to consider for identifying duplicates (subset parameter), whether to keep the first/last occurrence (keep parameter), and others.\n",
    "Returns: A boolean Series where each element is True if the row is a duplicate, otherwise False."
   ]
  },
  {
   "cell_type": "markdown",
   "id": "83ff37d2-7347-4340-a7ec-18f43dd7fd4a",
   "metadata": {},
   "source": [
    "<font size = '2.8'><b><code>drop_duplicates()</code></b></font>\n",
    "\n",
    "Purpose: The drop_duplicates() method is used to remove duplicate rows from a DataFrame or Series, based on certain criteria.\n",
    "Usage: This method is used when you want to clean your dataset by removing duplicates. You can specify criteria such as which columns to consider for identifying duplicates and whether to keep the first/last occurrence.\n",
    "Parameters: Similar to <code>duplicated()</code>, it allows specifying subset (columns to consider) and keep (which duplicate to keep). Additionally, it can directly modify the original DataFrame if <code>inplace=True</code> is set.\n",
    "Returns: By default, it returns a new DataFrame or Series with duplicates removed. If <code>inplace=True</code> is specified, it returns None and modifies the original DataFrame in place."
   ]
  },
  {
   "cell_type": "code",
   "execution_count": 28,
   "id": "564ebad7-83bc-4979-90b1-fa5a0c3b23ab",
   "metadata": {},
   "outputs": [
    {
     "data": {
      "text/html": [
       "<div>\n",
       "<style scoped>\n",
       "    .dataframe tbody tr th:only-of-type {\n",
       "        vertical-align: middle;\n",
       "    }\n",
       "\n",
       "    .dataframe tbody tr th {\n",
       "        vertical-align: top;\n",
       "    }\n",
       "\n",
       "    .dataframe thead th {\n",
       "        text-align: right;\n",
       "    }\n",
       "</style>\n",
       "<table border=\"1\" class=\"dataframe\">\n",
       "  <thead>\n",
       "    <tr style=\"text-align: right;\">\n",
       "      <th></th>\n",
       "      <th>A</th>\n",
       "      <th>B</th>\n",
       "    </tr>\n",
       "  </thead>\n",
       "  <tbody>\n",
       "    <tr>\n",
       "      <th>0</th>\n",
       "      <td>1</td>\n",
       "      <td>1</td>\n",
       "    </tr>\n",
       "    <tr>\n",
       "      <th>1</th>\n",
       "      <td>2</td>\n",
       "      <td>1</td>\n",
       "    </tr>\n",
       "    <tr>\n",
       "      <th>2</th>\n",
       "      <td>2</td>\n",
       "      <td>2</td>\n",
       "    </tr>\n",
       "    <tr>\n",
       "      <th>3</th>\n",
       "      <td>3</td>\n",
       "      <td>3</td>\n",
       "    </tr>\n",
       "    <tr>\n",
       "      <th>5</th>\n",
       "      <td>4</td>\n",
       "      <td>4</td>\n",
       "    </tr>\n",
       "    <tr>\n",
       "      <th>6</th>\n",
       "      <td>5</td>\n",
       "      <td>5</td>\n",
       "    </tr>\n",
       "  </tbody>\n",
       "</table>\n",
       "</div>"
      ],
      "text/plain": [
       "   A  B\n",
       "0  1  1\n",
       "1  2  1\n",
       "2  2  2\n",
       "3  3  3\n",
       "5  4  4\n",
       "6  5  5"
      ]
     },
     "execution_count": 28,
     "metadata": {},
     "output_type": "execute_result"
    }
   ],
   "source": [
    "import pandas as pd\n",
    "\n",
    "data_frame = pd.DataFrame({'A': [1, 2, 2, 3, 3, 4, 5, 4, 2],\n",
    "    'B': [1, 1, 2, 3, 3, 4, 5, 4, 1]})\n",
    "\n",
    "data_frame.duplicated()\n",
    "data_frame.drop_duplicates()"
   ]
  },
  {
   "cell_type": "markdown",
   "id": "8e576f6d-a478-490d-ba28-fc47b7b34b17",
   "metadata": {},
   "source": [
    "<b>Data Scaling and Normalization Questions:</b>"
   ]
  },
  {
   "cell_type": "markdown",
   "id": "74d76ca6-53d1-4f9a-b39d-2e63dba01013",
   "metadata": {},
   "source": [
    "<font size = '3'>Discuss the importance of feature scaling in machine learning</font>"
   ]
  },
  {
   "cell_type": "markdown",
   "id": "94cfdb31-c7eb-45a4-b69a-85389008b969",
   "metadata": {},
   "source": [
    "<a name='FeatureEng'></a>\n",
    "# Feature Engineering and Polynomial Regression Overview\n",
    "\n",
    "Out of the box, linear regression provides a means of building models of the form:\n",
    "$$f_{\\mathbf{w},b} = w_0x_0 + w_1x_1+ ... + w_{n-1}x_{n-1} + b \\tag{1}$$ \n",
    "What if your features/data are non-linear or are combinations of features? For example,  Housing prices do not tend to be linear with living area but penalize very small or very large houses resulting in the curves shown in the graphic above. How can we use the machinery of linear regression to fit this curve? Recall, the 'machinery' we have is the ability to modify the parameters $\\mathbf{w}$, $\\mathbf{b}$ in (1) to 'fit' the equation to the training data. However, no amount of adjusting of $\\mathbf{w}$,$\\mathbf{b}$ in (1) will achieve a fit to a non-linear curve.\n"
   ]
  },
  {
   "cell_type": "markdown",
   "id": "aa2041b7-070f-46c8-bac6-d1d4f2df229b",
   "metadata": {},
   "source": [
    "<a name='PolynomialFeatures'></a>\n",
    "## Polynomial Features\n",
    "\n",
    "Above we were considering a scenario where the data was non-linear. Let's try using what we know so far to fit a non-linear curve. We'll start with a simple quadratic: $y = 1+x^2$\n",
    "\n",
    "You're familiar with all the routines we're using. They are available in the lab_utils.py file for review. We'll use [`np.c_[..]`](https://numpy.org/doc/stable/reference/generated/numpy.c_.html) which is a NumPy routine to concatenate along the column boundary."
   ]
  },
  {
   "cell_type": "code",
   "execution_count": 38,
   "id": "0f0c1302",
   "metadata": {},
   "outputs": [
    {
     "ename": "NameError",
     "evalue": "name 'model_w' is not defined",
     "output_type": "error",
     "traceback": [
      "\u001b[1;31m---------------------------------------------------------------------------\u001b[0m",
      "\u001b[1;31mNameError\u001b[0m                                 Traceback (most recent call last)",
      "Cell \u001b[1;32mIn[38], line 12\u001b[0m\n\u001b[0;32m      7\u001b[0m X \u001b[38;5;241m=\u001b[39m x\u001b[38;5;241m.\u001b[39mreshape(\u001b[38;5;241m-\u001b[39m\u001b[38;5;241m1\u001b[39m, \u001b[38;5;241m1\u001b[39m)\n\u001b[0;32m     11\u001b[0m plt\u001b[38;5;241m.\u001b[39mscatter(x, y, marker\u001b[38;5;241m=\u001b[39m\u001b[38;5;124m'\u001b[39m\u001b[38;5;124mx\u001b[39m\u001b[38;5;124m'\u001b[39m, c\u001b[38;5;241m=\u001b[39m\u001b[38;5;124m'\u001b[39m\u001b[38;5;124mr\u001b[39m\u001b[38;5;124m'\u001b[39m, label\u001b[38;5;241m=\u001b[39m\u001b[38;5;124m\"\u001b[39m\u001b[38;5;124mActual Value\u001b[39m\u001b[38;5;124m\"\u001b[39m); plt\u001b[38;5;241m.\u001b[39mtitle(\u001b[38;5;124m\"\u001b[39m\u001b[38;5;124mno feature engineering\u001b[39m\u001b[38;5;124m\"\u001b[39m)\n\u001b[1;32m---> 12\u001b[0m plt\u001b[38;5;241m.\u001b[39mplot(x,X\u001b[38;5;129m@model_w\u001b[39m \u001b[38;5;241m+\u001b[39m model_b, label\u001b[38;5;241m=\u001b[39m\u001b[38;5;124m\"\u001b[39m\u001b[38;5;124mPredicted Value\u001b[39m\u001b[38;5;124m\"\u001b[39m);  plt\u001b[38;5;241m.\u001b[39mxlabel(\u001b[38;5;124m\"\u001b[39m\u001b[38;5;124mX\u001b[39m\u001b[38;5;124m\"\u001b[39m); plt\u001b[38;5;241m.\u001b[39mylabel(\u001b[38;5;124m\"\u001b[39m\u001b[38;5;124my\u001b[39m\u001b[38;5;124m\"\u001b[39m); plt\u001b[38;5;241m.\u001b[39mlegend(); plt\u001b[38;5;241m.\u001b[39mshow()\n",
      "\u001b[1;31mNameError\u001b[0m: name 'model_w' is not defined"
     ]
    },
    {
     "data": {
      "image/png": "[encoded data removed]",
      "text/plain": [
       "<Figure size 640x480 with 1 Axes>"
      ]
     },
     "metadata": {},
     "output_type": "display_data"
    }
   ],
   "source": [
    "import numpy as np\n",
    "import matplotlib.pyplot as plt\n",
    "np.set_printoptions(precision=2)\n",
    "\n",
    "x = np.arange(0, 20, 1)\n",
    "y = 1 + x**2\n",
    "X = x.reshape(-1, 1)\n",
    "\n",
    "\n",
    "model_w,model_b = run_gradient_descent_feng(X, y, iterations=10000, alpha = 1e-5)\n",
    "plt.scatter(x, y, marker='x', c='r', label=\"Actual Value\"); plt.title(\"no feature engineering\")\n",
    "plt.plot(x,X@model_w + model_b, label=\"Predicted Value\");  plt.xlabel(\"X\"); plt.ylabel(\"y\"); plt.legend(); plt.show()"
   ]
  },
  {
   "cell_type": "markdown",
   "id": "6a4743c8-27e9-4887-ae65-5ffd8c741ca6",
   "metadata": {},
   "source": [
    "Well, as expected, not a great fit. What is needed is something like $y= w_0x_0^2 + b$, or a **polynomial feature**.\n",
    "To accomplish this, you can modify the *input data* to *engineer* the needed features. If you swap the original data with a version that squares the $x$ value, then you can achieve $y= w_0x_0^2 + b$. Let's try it. Swap `X` for `X**2` below:"
   ]
  },
  {
   "cell_type": "code",
   "execution_count": 3,
   "id": "8b99d77f-d8e5-44df-a65e-8aaa0c347adf",
   "metadata": {},
   "outputs": [],
   "source": [
    "\n",
    "x = np.arange(0, 20, 1)\n",
    "y = 1 + x**2\n",
    "X = x**2    "
   ]
  },
  {
   "cell_type": "code",
   "execution_count": 7,
   "id": "24737086-bad3-491f-a822-1c8b66bc2bc8",
   "metadata": {},
   "outputs": [
    {
     "name": "stdout",
     "output_type": "stream",
     "text": [
      "Iteration         0, Cost: 7.32922e+03\n",
      "Iteration      1000, Cost: 2.24844e-01\n",
      "Iteration      2000, Cost: 2.22795e-01\n",
      "Iteration      3000, Cost: 2.20764e-01\n",
      "Iteration      4000, Cost: 2.18752e-01\n",
      "Iteration      5000, Cost: 2.16758e-01\n",
      "Iteration      6000, Cost: 2.14782e-01\n",
      "Iteration      7000, Cost: 2.12824e-01\n",
      "Iteration      8000, Cost: 2.10884e-01\n",
      "Iteration      9000, Cost: 2.08962e-01\n",
      "w,b found by gradient descent: w: [1.], b: 0.0490\n"
     ]
    },
    {
     "data": {
      "image/png": "[encoded data removed]",
      "text/plain": [
       "<Figure size 432x288 with 1 Axes>"
      ]
     },
     "metadata": {},
     "output_type": "display_data"
    }
   ],
   "source": [
    "X = X.reshape(-1, 1) \n",
    "model_w,model_b = run_gradient_descent_feng(X, y, iterations=10000, alpha = 1e-5)\n",
    "\n",
    "plt.scatter(x, y, marker='x', c='r', label=\"Actual Value\"); plt.title(\"Added x**2 feature\")\n",
    "plt.plot(x, np.dot(X,model_w) + model_b, label=\"Predicted Value\"); plt.xlabel(\"x\"); plt.ylabel(\"y\"); plt.legend(); plt.show()"
   ]
  },
  {
   "cell_type": "markdown",
   "id": "5d71d3f1-8c2d-4b72-aad2-f951d41d14f3",
   "metadata": {},
   "source": [
    "Great! near perfect fit. Notice the values of $\\mathbf{w}$ and b printed right above the graph: `w,b found by gradient descent: w: [1.], b: 0.0490`. Gradient descent modified our initial values of $\\mathbf{w},b $ to be (1.0,0.049) or a model of $y=1*x_0^2+0.049$, very close to our target of $y=1*x_0^2+1$. If you ran it longer, it could be a better match. "
   ]
  },
  {
   "cell_type": "markdown",
   "id": "d1138407-a353-47c3-9215-2febfa5e5351",
   "metadata": {},
   "source": [
    "<font size = '3'>Explain the difference between min-max scaling and z-score normalization.<font>"
   ]
  },
  {
   "cell_type": "markdown",
   "id": "9b67717e-80b9-4960-8d22-efc92df0bbc1",
   "metadata": {},
   "source": [
    "<font size = '4'><b>Min-Max Scaling</b></font>"
   ]
  },
  {
   "cell_type": "markdown",
   "id": "ff0b87b7-bacd-41b4-a986-3e40c0eb7681",
   "metadata": {},
   "source": [
    "Min-max scaling transforms the data to fit within a specified range, typically <code>[0, 1]</code> or <code>[-1, 1]</code>. It is achieved by subtracting the minimum value of the feature and then dividing by the range (the difference between the maximum and minimum values of the feature). This scaling method ensures that all features contribute equally to the result but does not handle outliers well; extreme values can skew the scaled data significantly."
   ]
  },
  {
   "cell_type": "markdown",
   "id": "e1b0a40e-2811-4b43-a613-9f56867d8210",
   "metadata": {},
   "source": [
    "$X_{\\text{norm}} = \\frac{X - X_{\\text{min}}}{X_{\\text{max}} - X_{\\text{min}}}$\r\n",
    "\r\n"
   ]
  },
  {
   "cell_type": "code",
   "execution_count": 40,
   "id": "ca2a758b-fdd7-4994-ac1d-8fa3d6294d34",
   "metadata": {},
   "outputs": [
    {
     "name": "stdout",
     "output_type": "stream",
     "text": [
      "Min-Max Scaled Data: [0.5  0.75 1.   0.62 0.5  1.   0.62 0.  ]\n"
     ]
    }
   ],
   "source": [
    "import numpy as np\n",
    "\n",
    "data = np.array([2,4,6,3,2,6,3,-2])\n",
    "\n",
    "def min_max_scaling(data):\n",
    "    min_val = np.min(data)\n",
    "    max_val = np.max(data)\n",
    "    return (data - min_val) / (max_val - min_val)\n",
    "min_max_scaled_data = min_max_scaling(data)\n",
    "print(\"Min-Max Scaled Data:\", min_max_scaled_data)\n"
   ]
  },
  {
   "cell_type": "markdown",
   "id": "28bfe1a8-242c-43d1-a54f-f69bc69cf0f3",
   "metadata": {},
   "source": [
    "<font size = '4'><b>Z-Score Normalization (Standardization)</b></font>"
   ]
  },
  {
   "cell_type": "markdown",
   "id": "333bc7b5-7b89-4f54-94ca-89b6b4b4d8d9",
   "metadata": {},
   "source": [
    "Z-score normalization rescales data so that they have the properties of a standard normal distribution with a mean (μ) of 0 and a standard deviation (σ) of 1. Unlike min-max scaling, standardization does not bound values to a specific range, which means that outliers can still be present after standardization. However, it is less affected by outliers in the data compared to min-max scaling."
   ]
  },
  {
   "cell_type": "markdown",
   "id": "50d19252-831b-48ed-b956-a6f01d1413ee",
   "metadata": {},
   "source": [
    "$X_{\\text{standardized}} = \\frac{X - \\mu}{\\sigma}$\n"
   ]
  },
  {
   "cell_type": "code",
   "execution_count": 41,
   "id": "41f141f0-c679-4e77-9c86-d24f91725158",
   "metadata": {},
   "outputs": [
    {
     "name": "stdout",
     "output_type": "stream",
     "text": [
      "Z-Score Normalized Data: [-0.42  0.42  1.25  0.   -0.42  1.25  0.   -2.09]\n"
     ]
    }
   ],
   "source": [
    "def z_score_normalization(data):\n",
    "    mean_val = np.mean(data)\n",
    "    std_dev = np.std(data)\n",
    "    return (data - mean_val) / std_dev\n",
    "z_score_normalized_data = z_score_normalization(data)\n",
    "print(\"Z-Score Normalized Data:\", z_score_normalized_data)\n"
   ]
  },
  {
   "cell_type": "markdown",
   "id": "701c5088-7bc7-4764-88c0-c2c5e527a3df",
   "metadata": {},
   "source": [
    "<b>Handling Outliers Questions:</b>"
   ]
  },
  {
   "cell_type": "markdown",
   "id": "302dc432-9fc5-4d56-9a48-596d17d704e2",
   "metadata": {},
   "source": [
    "<font size = '3'>What are outliers, and why might they impact machine learning models?</font>"
   ]
  },
  {
   "cell_type": "markdown",
   "id": "a5f07325-fac5-4a1e-88ca-8e4638790225",
   "metadata": {},
   "source": [
    "<font size = '4.4'><b>What are Outliers?</b></font>"
   ]
  },
  {
   "cell_type": "markdown",
   "id": "91954ed8-9fff-478f-a583-494d03633b92",
   "metadata": {},
   "source": [
    "Imagine you're in a classroom where most students are between 10 and 12 years old, but there's one student who is 16. That older student stands out from the rest – they're an outlier. In data terms, an outlier is like that older student; it's a piece of data that is very different from all the others. For example, if most people in a survey say they're happy 7 out of 10 times, but one person says they're happy 0 out of 10 times, that person's response is an outlier."
   ]
  },
  {
   "cell_type": "markdown",
   "id": "f7843fd4-6d73-496e-8641-141a7ce9f593",
   "metadata": {},
   "source": [
    "<font size='4.4'><b>Why Do Outliers Matter?</b></font>"
   ]
  },
  {
   "cell_type": "markdown",
   "id": "e2944e8e-1175-4403-ba1d-9b1324231fbb",
   "metadata": {},
   "source": [
    "-  <b>They Can Trick Us:</b> If we're not careful, outliers can make us think something is true for all the data when it's actually not. It's like thinking all students are older just because of that one 16-year-old student in the classroom.\n",
    "\n",
    "-  <b>Learning Gets Harder:</b> When a computer tries to learn from data (like when it's trying to predict something), outliers can make it harder. The computer might focus too much on the outliers and not enough on the regular data. It's like trying to understand what most kids like by only looking at what the oldest kid likes.\n",
    "\n",
    "-  <b>Not All Models Handle Them Well:</b> Some ways that computers learn are more upset by outliers than others. Imagine if you were making a rule that kids under 13 get a child ticket and anyone older gets an adult ticket. The 16-year-old would be an exception, making it harder to make a simple rule."
   ]
  },
  {
   "cell_type": "markdown",
   "id": "13c562a1-8351-4903-8fc6-474a974853f7",
   "metadata": {},
   "source": [
    "<font size = '4.4'><b>What Can We Do About Outliers?</b></font>"
   ]
  },
  {
   "cell_type": "markdown",
   "id": "fbe73155-91ae-4b30-a5cc-683bc09e1488",
   "metadata": {},
   "source": [
    "-  <b>Detection:</b> Before deciding how to handle outliers, it's crucial to detect them. This can be done using statistical methods (like Z-scores or IQR), visualization techniques (like box plots or scatter plots), or advanced algorithms designed to identify outliers in multidimensional data.\n",
    "\n",
    "-  <b>Removal:</b> If outliers are due to errors or are not representative of the population you want to model, removing them might be appropriate. However, this decision should be made carefully, considering the potential loss of valuable information.\n",
    "\n",
    "-  <b>Transformation:</b> Applying transformations to the data (like logarithmic or square root transformations) can reduce the effect of outliers by compressing the scale of extreme values.\n",
    "\n",
    "-  <b>Imputation:</b> In some cases, outliers can be replaced with values calculated based on other data points, such as the median or mean of the dataset, though this can potentially introduce bias.\n",
    "\n",
    "-  <b>Robust Methods:</b> Using algorithms and techniques that are less sensitive to outliers is another strategy. For example, using median values instead of means for central tendency or employing models like Random Forests can reduce the impact of outliers."
   ]
  },
  {
   "cell_type": "markdown",
   "id": "294a23d1-0404-43e5-9dc2-88186fbfa580",
   "metadata": {},
   "source": [
    "-  <b>Removal</b>\n",
    "\n",
    "Removing outliers is the simplest approach. This method involves deleting observations that are considered outliers. It's straightforward but should be used with caution, as it can lead to a significant reduction in data size and potential loss of valuable information."
   ]
  },
  {
   "cell_type": "code",
   "execution_count": 46,
   "id": "587d5823-1b03-4ac8-8cec-03bc72d6c480",
   "metadata": {},
   "outputs": [],
   "source": [
    "import numpy as np\n",
    "import pandas as pd\n",
    "\n",
    "data = pd.DataFrame({'Value': [10, 12, 12, 14, 12, 11, 10, 15, 300, 11, 12, 14, 13]})\n",
    "\n",
    "Q1 = data['Value'].quantile(0.25)\n",
    "Q3 = data['Value'].quantile(0.75)\n",
    "IQR = Q3 - Q1\n",
    "\n",
    "lower_bound = Q1 - 1.5 * IQR\n",
    "upper_bound = Q3 + 1.5 * IQR\n",
    "\n",
    "filtered_data = data[(data['Value'] >= lower_bound) & (data['Value'] <= upper_bound)]\n"
   ]
  },
  {
   "cell_type": "markdown",
   "id": "3bd72c85-5ae9-48fb-86e8-e9e715ccae99",
   "metadata": {},
   "source": [
    "-  <b>Capping/Winsorizing</b>"
   ]
  },
  {
   "cell_type": "markdown",
   "id": "094d64b4-15ad-4638-bcd2-f3751cb9445f",
   "metadata": {},
   "source": [
    "Capping (or Winsorizing) involves replacing the outlier values with a specified percentile of the data (e.g., the 1st and 99th percentiles). This method preserves the size of the dataset but can introduce bias."
   ]
  },
  {
   "cell_type": "code",
   "execution_count": 48,
   "id": "b19d84f2-7bcb-4fe9-898e-92321ad88788",
   "metadata": {},
   "outputs": [],
   "source": [
    "from scipy.stats import mstats\n",
    "winsorized_data = mstats.winsorize(data['Value'], limits=[0.05, 0.05])\n",
    "winsorized_data = pd.DataFrame(winsorized_data, columns=['Value'])\n"
   ]
  },
  {
   "cell_type": "markdown",
   "id": "743f41aa-d9bd-4516-864b-13aa22e67bff",
   "metadata": {},
   "source": [
    "-  <b>Transformation</b>"
   ]
  },
  {
   "cell_type": "markdown",
   "id": "abefd5ed-885e-464e-984b-ea24555f1703",
   "metadata": {},
   "source": [
    "Applying a mathematical transformation can reduce the impact of outliers. Common transformations include logarithmic, square root, or Box-Cox transformations. These transformations can make the data more normal, thereby lessening the influence of outliers."
   ]
  },
  {
   "cell_type": "code",
   "execution_count": 49,
   "id": "170470ca-3de1-4157-8f39-843c29ca4c3b",
   "metadata": {},
   "outputs": [],
   "source": [
    "data['Value_Log'] = np.log(data['Value'] + 1)\n",
    "data['Value_Sqrt'] = np.sqrt(data['Value'])\n",
    "from scipy import stats\n",
    "data['Value'], fitted_lambda = stats.boxcox(data['Value'] + 1)  \n"
   ]
  },
  {
   "cell_type": "markdown",
   "id": "09611a42-6b0c-4175-8173-925fe597679a",
   "metadata": {},
   "source": [
    "-  <b>Imputation</b>"
   ]
  },
  {
   "cell_type": "markdown",
   "id": "15f7a594-2725-4d6a-a5a1-242a5f0d569f",
   "metadata": {},
   "source": [
    "Imputation involves replacing outliers with more representative values, such as the median or mean of the dataset. This method keeps the dataset size intact but can affect the distribution of the data."
   ]
  },
  {
   "cell_type": "code",
   "execution_count": 50,
   "id": "2c3317bf-1885-4c41-8d3d-3bf22aec3d44",
   "metadata": {},
   "outputs": [],
   "source": [
    "median = data['Value'].median()\n",
    "data['Value'] = np.where((data['Value'] < lower_bound) | (data['Value'] > upper_bound), median, data['Value'])\n"
   ]
  },
  {
   "cell_type": "code",
   "execution_count": null,
   "id": "01901eef-07d4-4e10-a2cc-bcd531a92e46",
   "metadata": {},
   "outputs": [],
   "source": []
  }
 ],
 "metadata": {
  "kernelspec": {
   "display_name": "Python 3 (ipykernel)",
   "language": "python",
   "name": "python3"
  },
  "language_info": {
   "codemirror_mode": {
    "name": "ipython",
    "version": 3
   },
   "file_extension": ".py",
   "mimetype": "text/x-python",
   "name": "python",
   "nbconvert_exporter": "python",
   "pygments_lexer": "ipython3",
   "version": "3.12.2"
  }
 },
 "nbformat": 4,
 "nbformat_minor": 5
}
